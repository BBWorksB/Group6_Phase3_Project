{
 "cells": [
  {
   "cell_type": "markdown",
   "id": "eb4fde62",
   "metadata": {},
   "source": [
    " # Customer Churn Prediction for GNB Bank"
   ]
  },
  {
   "cell_type": "markdown",
   "id": "f4fe34c8",
   "metadata": {},
   "source": [
    "## 1. Business Understanding:\n",
    "\n",
    "For GNB Bank, understanding and predicting customer churn is critical for several reasons. First and foremost, customer churn impacts the bank's revenue and profitability. Acquiring new customers is more expensive than retaining existing ones, so preventing churn can lead to significant cost savings. Moreover, customer retention contributes to a positive reputation and strengthens the bank's position in the highly competitive financial industry. By leveraging machine learning techniques to predict customer churn, GNB Bank can proactively address the needs of at-risk customers, personalize their banking experience, and develop targeted marketing campaigns to foster long-term customer loyalty.\n",
    "\n",
    "## a) Introduction:\n",
    "\n",
    "GNB Bank is a leading financial institution, providing various banking and financial services to its customers. As with any bank, customer retention is crucial for maintaining a strong market presence and sustaining profitability. Identifying customers who are likely to churn is of paramount importance for GNB Bank to implement targeted strategies and retain valuable customers. In this bprojec, we will explore a dataset containing customer information, including demographics, banking behavior, and historical churn data. Our objective is to build a predictive model that can accurately predict customer churn and provide valuable insights to help GNB Bank enhance its customer retention efforts.\n",
    "\n",
    "## b) Problem statement\n",
    "GNB Bank is in constant worry of whether the customer will churn or not. This problem has lead to them unable to make stable and precise decision on the customers that visit, additionally to maintain the already present customers. \n",
    "\n",
    "## c) Metric of Success\n",
    "The model will be counted successful if it can predict accurately whether the customer is likely to churn or not based on their historical behavior and demographic information. \n",
    "\n",
    "## d) Main Objective\n",
    "To build a robust customer churn prediction model that will enable GNB Bank to make data-driven decisions, enhance customer satisfaction, and strengthen its market position in the competitive financial industry.\n",
    "\n",
    "## e) Specific Objective\n",
    "* Determine factors that have a higer effect on customer churning.\n",
    "* Build different models to evaluate the best model.\n",
    "\n",
    "## f) Experimental design\n",
    "**Exploratory Data Analysis (EDA):** We will explore the dataset to gain insights into customer demographics, banking behavior, and the distribution of churned customers. EDA will help us understand the data and identify patterns that may be indicative of churn.\n",
    "\n",
    "**Data Preprocessing:** We will handle missing values, encode categorical variables, and perform feature scaling to prepare the data for model training.\n",
    "\n",
    "**Feature Importance Analysis:** Using SHAP (SHapley Additive exPlanations), we will identify the most important features that influence customer churn for GNB Bank.\n",
    "\n",
    "**Model Building:** We will train and evaluate two machine learning models - Decision Trees and Random Forests - to predict customer churn accurately.\n",
    "\n",
    "**Model Evaluation:** The performance of the models will be assessed using various evaluation metrics, such as accuracy, F1 score, precision, recall, and the ROC-AUC curve.\n",
    "\n",
    "**Interpretation and Recommendations:** We will interpret the model results to identify key factors contributing to customer churn for GNB Bank. Based on the insights gained, we will provide actionable recommendations to the bank on strategies to reduce churn and improve customer retention.\n",
    "\n",
    "## g) Data Relevance\n",
    "This project will use the churn modelling dataset. The dataset has 9970 rows, and 11 columns. The dataset has the following information which will give a better and insight of customer churning.\n",
    "\n",
    "**1.RowNumber:** A sequential number assigned to each row in the dataset.\n",
    "\n",
    "**2.CustomerId:** A unique identifier for each customer in the bank.\n",
    "\n",
    "**3.Surname:** The last name of the customer.\n",
    "\n",
    "**4.CreditScore:** The credit score of the customer, representing their creditworthiness.\n",
    "\n",
    "**5.Geography:** The geographical location of the customer (e.g., France, Spain, Germany).\n",
    "\n",
    "**6.Gender:** The gender of the customer (Male or Female).\n",
    "\n",
    "**7.Age:** The age of the customer.\n",
    "\n",
    "**8.Tenure:** The number of years the customer has been with the bank.\n",
    "\n",
    "**9.Balance:** The account balance of the customer.\n",
    "\n",
    "**10.NumOfProducts:** The number of bank products the customer has purchased.\n",
    "\n",
    "**11.HasCrCard:** Whether the customer has a credit card (1 if yes, 0 if no).\n",
    "\n",
    "**12.IsActiveMember:** Whether the customer is an active member (1 if yes, 0 if no).\n",
    "\n",
    "**13.EstimatedSalary:** The estimated salary of the customer.\n",
    "\n",
    "**14.Exited:** The target variable indicating whether the customer churned (1 if yes, 0 if no)."
   ]
  },
  {
   "cell_type": "markdown",
   "id": "82de2288",
   "metadata": {},
   "source": [
    "## 2. Data Understanding\n",
    "Explore the data and have its general understanding that is its shape, columns available, is it clean, its relationship using describe function."
   ]
  },
  {
   "cell_type": "markdown",
   "id": "d0d25df7",
   "metadata": {},
   "source": [
    "##### Import relevant libraries"
   ]
  },
  {
   "cell_type": "code",
   "execution_count": 8,
   "id": "56b297e2",
   "metadata": {},
   "outputs": [],
   "source": [
    "import pandas as pd\n",
    "import numpy as np\n",
    "import matplotlib.pyplot as plt\n",
    "import seaborn as sns\n",
    "from sklearn.preprocessing import StandardScaler\n",
    "from sklearn.linear_model import LinearRegression\n",
    "from sklearn.model_selection import train_test_split\n",
    "from scipy import stats\n",
    "from sklearn.tree import DecisionTreeClassifier\n",
    "from sklearn.model_selection import GridSearchCV\n",
    "from sklearn.metrics import confusion_matrix\n",
    "from sklearn.metrics import roc_curve,roc_auc_score, accuracy_score, classification_report, confusion_matrix\n",
    "from sklearn.linear_model import LogisticRegression\n",
    "from sklearn.ensemble import RandomForestClassifier, GradientBoostingClassifier, VotingClassifier\n",
    "from sklearn.neighbors import KNeighborsClassifier\n",
    "from xgboost import XGBClassifier\n",
    "import warnings\n",
    "from statsmodels.stats.outliers_influence import variance_inflation_factor\n",
    "warnings.filterwarnings('ignore')\n",
    "sns.set_style('darkgrid')"
   ]
  },
  {
   "cell_type": "markdown",
   "id": "f6bdd38a",
   "metadata": {},
   "source": [
    "##### Loading the Data"
   ]
  },
  {
   "cell_type": "code",
   "execution_count": 9,
   "id": "99a9c3d6",
   "metadata": {},
   "outputs": [
    {
     "data": {
      "text/html": [
       "<div>\n",
       "<style scoped>\n",
       "    .dataframe tbody tr th:only-of-type {\n",
       "        vertical-align: middle;\n",
       "    }\n",
       "\n",
       "    .dataframe tbody tr th {\n",
       "        vertical-align: top;\n",
       "    }\n",
       "\n",
       "    .dataframe thead th {\n",
       "        text-align: right;\n",
       "    }\n",
       "</style>\n",
       "<table border=\"1\" class=\"dataframe\">\n",
       "  <thead>\n",
       "    <tr style=\"text-align: right;\">\n",
       "      <th></th>\n",
       "      <th>RowNumber</th>\n",
       "      <th>CustomerId</th>\n",
       "      <th>Surname</th>\n",
       "      <th>CreditScore</th>\n",
       "      <th>Geography</th>\n",
       "      <th>Gender</th>\n",
       "      <th>Age</th>\n",
       "      <th>Tenure</th>\n",
       "      <th>Balance</th>\n",
       "      <th>NumOfProducts</th>\n",
       "      <th>HasCrCard</th>\n",
       "      <th>IsActiveMember</th>\n",
       "      <th>EstimatedSalary</th>\n",
       "      <th>Exited</th>\n",
       "    </tr>\n",
       "  </thead>\n",
       "  <tbody>\n",
       "    <tr>\n",
       "      <th>0</th>\n",
       "      <td>1</td>\n",
       "      <td>15634602</td>\n",
       "      <td>Hargrave</td>\n",
       "      <td>619.0</td>\n",
       "      <td>France</td>\n",
       "      <td>Female</td>\n",
       "      <td>42.0</td>\n",
       "      <td>2.0</td>\n",
       "      <td>0.00</td>\n",
       "      <td>1.0</td>\n",
       "      <td>1.0</td>\n",
       "      <td>1.0</td>\n",
       "      <td>101348.88</td>\n",
       "      <td>1</td>\n",
       "    </tr>\n",
       "    <tr>\n",
       "      <th>1</th>\n",
       "      <td>2</td>\n",
       "      <td>15647311</td>\n",
       "      <td>Hill</td>\n",
       "      <td>608.0</td>\n",
       "      <td>Spain</td>\n",
       "      <td>Female</td>\n",
       "      <td>41.0</td>\n",
       "      <td>1.0</td>\n",
       "      <td>83807.86</td>\n",
       "      <td>1.0</td>\n",
       "      <td>0.0</td>\n",
       "      <td>1.0</td>\n",
       "      <td>112542.58</td>\n",
       "      <td>0</td>\n",
       "    </tr>\n",
       "    <tr>\n",
       "      <th>2</th>\n",
       "      <td>3</td>\n",
       "      <td>15619304</td>\n",
       "      <td>Onio</td>\n",
       "      <td>502.0</td>\n",
       "      <td>France</td>\n",
       "      <td>Female</td>\n",
       "      <td>42.0</td>\n",
       "      <td>8.0</td>\n",
       "      <td>159660.80</td>\n",
       "      <td>3.0</td>\n",
       "      <td>1.0</td>\n",
       "      <td>0.0</td>\n",
       "      <td>113931.57</td>\n",
       "      <td>1</td>\n",
       "    </tr>\n",
       "    <tr>\n",
       "      <th>3</th>\n",
       "      <td>4</td>\n",
       "      <td>15701354</td>\n",
       "      <td>Boni</td>\n",
       "      <td>699.0</td>\n",
       "      <td>France</td>\n",
       "      <td>Female</td>\n",
       "      <td>39.0</td>\n",
       "      <td>1.0</td>\n",
       "      <td>0.00</td>\n",
       "      <td>2.0</td>\n",
       "      <td>0.0</td>\n",
       "      <td>0.0</td>\n",
       "      <td>93826.63</td>\n",
       "      <td>0</td>\n",
       "    </tr>\n",
       "    <tr>\n",
       "      <th>4</th>\n",
       "      <td>5</td>\n",
       "      <td>15737888</td>\n",
       "      <td>Mitchell</td>\n",
       "      <td>850.0</td>\n",
       "      <td>Spain</td>\n",
       "      <td>Female</td>\n",
       "      <td>43.0</td>\n",
       "      <td>2.0</td>\n",
       "      <td>125510.82</td>\n",
       "      <td>1.0</td>\n",
       "      <td>1.0</td>\n",
       "      <td>1.0</td>\n",
       "      <td>79084.10</td>\n",
       "      <td>0</td>\n",
       "    </tr>\n",
       "  </tbody>\n",
       "</table>\n",
       "</div>"
      ],
      "text/plain": [
       "   RowNumber  CustomerId   Surname  CreditScore Geography  Gender   Age  \\\n",
       "0          1    15634602  Hargrave        619.0    France  Female  42.0   \n",
       "1          2    15647311      Hill        608.0     Spain  Female  41.0   \n",
       "2          3    15619304      Onio        502.0    France  Female  42.0   \n",
       "3          4    15701354      Boni        699.0    France  Female  39.0   \n",
       "4          5    15737888  Mitchell        850.0     Spain  Female  43.0   \n",
       "\n",
       "   Tenure    Balance  NumOfProducts  HasCrCard  IsActiveMember  \\\n",
       "0     2.0       0.00            1.0        1.0             1.0   \n",
       "1     1.0   83807.86            1.0        0.0             1.0   \n",
       "2     8.0  159660.80            3.0        1.0             0.0   \n",
       "3     1.0       0.00            2.0        0.0             0.0   \n",
       "4     2.0  125510.82            1.0        1.0             1.0   \n",
       "\n",
       "   EstimatedSalary  Exited  \n",
       "0        101348.88       1  \n",
       "1        112542.58       0  \n",
       "2        113931.57       1  \n",
       "3         93826.63       0  \n",
       "4         79084.10       0  "
      ]
     },
     "execution_count": 9,
     "metadata": {},
     "output_type": "execute_result"
    }
   ],
   "source": [
    "df = pd.read_csv(\"Churn Modeling_set.csv\")\n",
    "df.head()"
   ]
  },
  {
   "cell_type": "code",
   "execution_count": 10,
   "id": "583f730d",
   "metadata": {},
   "outputs": [
    {
     "data": {
      "text/plain": [
       "(10000, 14)"
      ]
     },
     "execution_count": 10,
     "metadata": {},
     "output_type": "execute_result"
    }
   ],
   "source": [
    "df.shape"
   ]
  },
  {
   "cell_type": "code",
   "execution_count": 11,
   "id": "88947e19",
   "metadata": {},
   "outputs": [
    {
     "name": "stdout",
     "output_type": "stream",
     "text": [
      "<class 'pandas.core.frame.DataFrame'>\n",
      "RangeIndex: 10000 entries, 0 to 9999\n",
      "Data columns (total 14 columns):\n",
      " #   Column           Non-Null Count  Dtype  \n",
      "---  ------           --------------  -----  \n",
      " 0   RowNumber        10000 non-null  int64  \n",
      " 1   CustomerId       10000 non-null  int64  \n",
      " 2   Surname          10000 non-null  object \n",
      " 3   CreditScore      9996 non-null   float64\n",
      " 4   Geography        9997 non-null   object \n",
      " 5   Gender           9997 non-null   object \n",
      " 6   Age              9994 non-null   float64\n",
      " 7   Tenure           9963 non-null   float64\n",
      " 8   Balance          9998 non-null   float64\n",
      " 9   NumOfProducts    9986 non-null   float64\n",
      " 10  HasCrCard        9998 non-null   float64\n",
      " 11  IsActiveMember   9999 non-null   float64\n",
      " 12  EstimatedSalary  9988 non-null   float64\n",
      " 13  Exited           10000 non-null  int64  \n",
      "dtypes: float64(8), int64(3), object(3)\n",
      "memory usage: 1.1+ MB\n"
     ]
    }
   ],
   "source": [
    "df.info()"
   ]
  },
  {
   "cell_type": "code",
   "execution_count": 12,
   "id": "ef3f39a1",
   "metadata": {},
   "outputs": [
    {
     "data": {
      "text/html": [
       "<div>\n",
       "<style scoped>\n",
       "    .dataframe tbody tr th:only-of-type {\n",
       "        vertical-align: middle;\n",
       "    }\n",
       "\n",
       "    .dataframe tbody tr th {\n",
       "        vertical-align: top;\n",
       "    }\n",
       "\n",
       "    .dataframe thead th {\n",
       "        text-align: right;\n",
       "    }\n",
       "</style>\n",
       "<table border=\"1\" class=\"dataframe\">\n",
       "  <thead>\n",
       "    <tr style=\"text-align: right;\">\n",
       "      <th></th>\n",
       "      <th>RowNumber</th>\n",
       "      <th>CustomerId</th>\n",
       "      <th>CreditScore</th>\n",
       "      <th>Age</th>\n",
       "      <th>Tenure</th>\n",
       "      <th>Balance</th>\n",
       "      <th>NumOfProducts</th>\n",
       "      <th>HasCrCard</th>\n",
       "      <th>IsActiveMember</th>\n",
       "      <th>EstimatedSalary</th>\n",
       "      <th>Exited</th>\n",
       "    </tr>\n",
       "  </thead>\n",
       "  <tbody>\n",
       "    <tr>\n",
       "      <th>count</th>\n",
       "      <td>10000.00000</td>\n",
       "      <td>1.000000e+04</td>\n",
       "      <td>9996.000000</td>\n",
       "      <td>9994.000000</td>\n",
       "      <td>9963.000000</td>\n",
       "      <td>9998.000000</td>\n",
       "      <td>9986.000000</td>\n",
       "      <td>9998.000000</td>\n",
       "      <td>9999.000000</td>\n",
       "      <td>9988.000000</td>\n",
       "      <td>10000.000000</td>\n",
       "    </tr>\n",
       "    <tr>\n",
       "      <th>mean</th>\n",
       "      <td>5000.50000</td>\n",
       "      <td>1.569094e+07</td>\n",
       "      <td>650.530912</td>\n",
       "      <td>38.923354</td>\n",
       "      <td>5.014554</td>\n",
       "      <td>76473.453397</td>\n",
       "      <td>1.530543</td>\n",
       "      <td>0.705441</td>\n",
       "      <td>0.515052</td>\n",
       "      <td>100085.506746</td>\n",
       "      <td>0.203700</td>\n",
       "    </tr>\n",
       "    <tr>\n",
       "      <th>std</th>\n",
       "      <td>2886.89568</td>\n",
       "      <td>7.193619e+04</td>\n",
       "      <td>96.669212</td>\n",
       "      <td>10.490050</td>\n",
       "      <td>2.891654</td>\n",
       "      <td>62397.079186</td>\n",
       "      <td>0.581744</td>\n",
       "      <td>0.455867</td>\n",
       "      <td>0.499798</td>\n",
       "      <td>57520.360859</td>\n",
       "      <td>0.402769</td>\n",
       "    </tr>\n",
       "    <tr>\n",
       "      <th>min</th>\n",
       "      <td>1.00000</td>\n",
       "      <td>1.556570e+07</td>\n",
       "      <td>350.000000</td>\n",
       "      <td>18.000000</td>\n",
       "      <td>0.000000</td>\n",
       "      <td>0.000000</td>\n",
       "      <td>1.000000</td>\n",
       "      <td>0.000000</td>\n",
       "      <td>0.000000</td>\n",
       "      <td>11.580000</td>\n",
       "      <td>0.000000</td>\n",
       "    </tr>\n",
       "    <tr>\n",
       "      <th>25%</th>\n",
       "      <td>2500.75000</td>\n",
       "      <td>1.562853e+07</td>\n",
       "      <td>584.000000</td>\n",
       "      <td>32.000000</td>\n",
       "      <td>3.000000</td>\n",
       "      <td>0.000000</td>\n",
       "      <td>1.000000</td>\n",
       "      <td>0.000000</td>\n",
       "      <td>0.000000</td>\n",
       "      <td>50974.077500</td>\n",
       "      <td>0.000000</td>\n",
       "    </tr>\n",
       "    <tr>\n",
       "      <th>50%</th>\n",
       "      <td>5000.50000</td>\n",
       "      <td>1.569074e+07</td>\n",
       "      <td>652.000000</td>\n",
       "      <td>37.000000</td>\n",
       "      <td>5.000000</td>\n",
       "      <td>97173.290000</td>\n",
       "      <td>1.000000</td>\n",
       "      <td>1.000000</td>\n",
       "      <td>1.000000</td>\n",
       "      <td>100185.240000</td>\n",
       "      <td>0.000000</td>\n",
       "    </tr>\n",
       "    <tr>\n",
       "      <th>75%</th>\n",
       "      <td>7500.25000</td>\n",
       "      <td>1.575323e+07</td>\n",
       "      <td>718.000000</td>\n",
       "      <td>44.000000</td>\n",
       "      <td>7.000000</td>\n",
       "      <td>127641.417500</td>\n",
       "      <td>2.000000</td>\n",
       "      <td>1.000000</td>\n",
       "      <td>1.000000</td>\n",
       "      <td>149388.247500</td>\n",
       "      <td>0.000000</td>\n",
       "    </tr>\n",
       "    <tr>\n",
       "      <th>max</th>\n",
       "      <td>10000.00000</td>\n",
       "      <td>1.581569e+07</td>\n",
       "      <td>850.000000</td>\n",
       "      <td>92.000000</td>\n",
       "      <td>10.000000</td>\n",
       "      <td>250898.090000</td>\n",
       "      <td>4.000000</td>\n",
       "      <td>1.000000</td>\n",
       "      <td>1.000000</td>\n",
       "      <td>199992.480000</td>\n",
       "      <td>1.000000</td>\n",
       "    </tr>\n",
       "  </tbody>\n",
       "</table>\n",
       "</div>"
      ],
      "text/plain": [
       "         RowNumber    CustomerId  CreditScore          Age       Tenure  \\\n",
       "count  10000.00000  1.000000e+04  9996.000000  9994.000000  9963.000000   \n",
       "mean    5000.50000  1.569094e+07   650.530912    38.923354     5.014554   \n",
       "std     2886.89568  7.193619e+04    96.669212    10.490050     2.891654   \n",
       "min        1.00000  1.556570e+07   350.000000    18.000000     0.000000   \n",
       "25%     2500.75000  1.562853e+07   584.000000    32.000000     3.000000   \n",
       "50%     5000.50000  1.569074e+07   652.000000    37.000000     5.000000   \n",
       "75%     7500.25000  1.575323e+07   718.000000    44.000000     7.000000   \n",
       "max    10000.00000  1.581569e+07   850.000000    92.000000    10.000000   \n",
       "\n",
       "             Balance  NumOfProducts    HasCrCard  IsActiveMember  \\\n",
       "count    9998.000000    9986.000000  9998.000000     9999.000000   \n",
       "mean    76473.453397       1.530543     0.705441        0.515052   \n",
       "std     62397.079186       0.581744     0.455867        0.499798   \n",
       "min         0.000000       1.000000     0.000000        0.000000   \n",
       "25%         0.000000       1.000000     0.000000        0.000000   \n",
       "50%     97173.290000       1.000000     1.000000        1.000000   \n",
       "75%    127641.417500       2.000000     1.000000        1.000000   \n",
       "max    250898.090000       4.000000     1.000000        1.000000   \n",
       "\n",
       "       EstimatedSalary        Exited  \n",
       "count      9988.000000  10000.000000  \n",
       "mean     100085.506746      0.203700  \n",
       "std       57520.360859      0.402769  \n",
       "min          11.580000      0.000000  \n",
       "25%       50974.077500      0.000000  \n",
       "50%      100185.240000      0.000000  \n",
       "75%      149388.247500      0.000000  \n",
       "max      199992.480000      1.000000  "
      ]
     },
     "execution_count": 12,
     "metadata": {},
     "output_type": "execute_result"
    }
   ],
   "source": [
    "df.describe()"
   ]
  },
  {
   "cell_type": "markdown",
   "id": "c60a4119",
   "metadata": {},
   "source": [
    "##### Observation\n",
    "* The dataset has missing values.\n",
    "* The mean age of customers is 39 and the standard deviation is 10.49 this indicates that the age is spread around the mean.\n",
    "* The Exited column(the target column) is binary 1 and 0 with the mean of 0.203 which is suggesting that 20% of the customer exited\n",
    "* Each column has a relevant data type as expected"
   ]
  },
  {
   "cell_type": "markdown",
   "id": "ce412c88",
   "metadata": {},
   "source": [
    "## 3. Data Preparation\n",
    "- Select relevant data to be used.\n",
    "- Clean and construct the data\n",
    "- Intergrate and reformat data"
   ]
  },
  {
   "cell_type": "markdown",
   "id": "745d333d",
   "metadata": {},
   "source": [
    "##### Select relevant data\n",
    "Will drop:\n",
    "* RowNumber - its an index of each row, it wont be necessary factor for customer churning\n",
    "* CustomerId and Surname - the two are unique custmers identify, definately this has no effect on whether the customer to churn or not."
   ]
  },
  {
   "cell_type": "code",
   "execution_count": 13,
   "id": "06b218cc",
   "metadata": {},
   "outputs": [],
   "source": [
    "# Drop irrelevant columns\n",
    "data = df.drop(['RowNumber','CustomerId', 'Surname'], axis=1)"
   ]
  },
  {
   "cell_type": "markdown",
   "id": "385c4992",
   "metadata": {},
   "source": [
    "##### Clean and construct data"
   ]
  },
  {
   "cell_type": "code",
   "execution_count": 14,
   "id": "790291fe",
   "metadata": {},
   "outputs": [
    {
     "data": {
      "text/plain": [
       "CreditScore         4\n",
       "Geography           3\n",
       "Gender              3\n",
       "Age                 6\n",
       "Tenure             37\n",
       "Balance             2\n",
       "NumOfProducts      14\n",
       "HasCrCard           2\n",
       "IsActiveMember      1\n",
       "EstimatedSalary    12\n",
       "Exited              0\n",
       "dtype: int64"
      ]
     },
     "execution_count": 14,
     "metadata": {},
     "output_type": "execute_result"
    }
   ],
   "source": [
    "# Check the distribution of the missing data\n",
    "data.isna().sum()"
   ]
  },
  {
   "cell_type": "markdown",
   "id": "b46800cf",
   "metadata": {},
   "source": [
    "Will drop the missing values in these columns: 'CreditScore', 'Geography', 'Gender', 'Age', 'HasCrCard', 'IsActiveMember', 'Balance', 'EstimatedSalary'. This is because the number of missing values in the columns are minimal, wont affect the dataset."
   ]
  },
  {
   "cell_type": "code",
   "execution_count": 15,
   "id": "4fd63e07",
   "metadata": {},
   "outputs": [
    {
     "name": "stdout",
     "output_type": "stream",
     "text": [
      "CreditScore         0\n",
      "Geography           0\n",
      "Gender              0\n",
      "Age                 0\n",
      "Tenure             36\n",
      "Balance             0\n",
      "NumOfProducts      14\n",
      "HasCrCard           0\n",
      "IsActiveMember      0\n",
      "EstimatedSalary     0\n",
      "Exited              0\n",
      "dtype: int64\n"
     ]
    }
   ],
   "source": [
    "# Drop rows with missing values in the \"CreditScore\" and \"Geography\" columns\n",
    "data.dropna(subset=['CreditScore', 'Geography', 'Gender', 'Age', 'HasCrCard', 'IsActiveMember', 'Balance', 'EstimatedSalary'], inplace=True)\n",
    "\n",
    "# Check the updated number of missing values in each column\n",
    "print(data.isna().sum())"
   ]
  },
  {
   "cell_type": "markdown",
   "id": "84840626",
   "metadata": {},
   "source": [
    "For Tenure and NumProducts will replace the missing values with mode this will help have clear understanding of the most years used and most products used with customers."
   ]
  },
  {
   "cell_type": "code",
   "execution_count": 16,
   "id": "adaf9cf3",
   "metadata": {},
   "outputs": [],
   "source": [
    "# Calculate the mode of the \"Tenure\" column\n",
    "tenure_mode = data[\"Tenure\"].mode().values[0]\n",
    "\n",
    "# Impute the missing values in the \"Tenure\" column with the mode\n",
    "data[\"Tenure\"].fillna(tenure_mode, inplace=True)"
   ]
  },
  {
   "cell_type": "code",
   "execution_count": 17,
   "id": "5b8e5c55",
   "metadata": {},
   "outputs": [],
   "source": [
    "# Calculate the mode of the \"NumOfProducts\" column\n",
    "numofproducts_mode = data[\"NumOfProducts\"].mode().values[0]\n",
    "\n",
    "# Impute the missing values in the \"NumOfProducts\" column with the mode\n",
    "data[\"NumOfProducts\"].fillna(numofproducts_mode, inplace=True)"
   ]
  },
  {
   "cell_type": "code",
   "execution_count": 18,
   "id": "9ba1c1b8",
   "metadata": {},
   "outputs": [
    {
     "name": "stdout",
     "output_type": "stream",
     "text": [
      "CreditScore        0\n",
      "Geography          0\n",
      "Gender             0\n",
      "Age                0\n",
      "Tenure             0\n",
      "Balance            0\n",
      "NumOfProducts      0\n",
      "HasCrCard          0\n",
      "IsActiveMember     0\n",
      "EstimatedSalary    0\n",
      "Exited             0\n",
      "dtype: int64\n"
     ]
    }
   ],
   "source": [
    "# Check the updated number of missing values in each column\n",
    "print(data.isna().sum())"
   ]
  },
  {
   "cell_type": "markdown",
   "id": "f8a79ce4",
   "metadata": {},
   "source": [
    "Checking for duplicates"
   ]
  },
  {
   "cell_type": "code",
   "execution_count": 19,
   "id": "df797424",
   "metadata": {},
   "outputs": [
    {
     "data": {
      "text/plain": [
       "0"
      ]
     },
     "execution_count": 19,
     "metadata": {},
     "output_type": "execute_result"
    }
   ],
   "source": [
    "data.duplicated().sum()"
   ]
  },
  {
   "cell_type": "code",
   "execution_count": 20,
   "id": "e507ee17",
   "metadata": {},
   "outputs": [
    {
     "data": {
      "text/html": [
       "<div>\n",
       "<style scoped>\n",
       "    .dataframe tbody tr th:only-of-type {\n",
       "        vertical-align: middle;\n",
       "    }\n",
       "\n",
       "    .dataframe tbody tr th {\n",
       "        vertical-align: top;\n",
       "    }\n",
       "\n",
       "    .dataframe thead th {\n",
       "        text-align: right;\n",
       "    }\n",
       "</style>\n",
       "<table border=\"1\" class=\"dataframe\">\n",
       "  <thead>\n",
       "    <tr style=\"text-align: right;\">\n",
       "      <th></th>\n",
       "      <th>CreditScore</th>\n",
       "      <th>Age</th>\n",
       "      <th>Tenure</th>\n",
       "      <th>Balance</th>\n",
       "      <th>NumOfProducts</th>\n",
       "      <th>HasCrCard</th>\n",
       "      <th>IsActiveMember</th>\n",
       "      <th>EstimatedSalary</th>\n",
       "      <th>Exited</th>\n",
       "    </tr>\n",
       "  </thead>\n",
       "  <tbody>\n",
       "    <tr>\n",
       "      <th>count</th>\n",
       "      <td>9970.000000</td>\n",
       "      <td>9970.000000</td>\n",
       "      <td>9970.000000</td>\n",
       "      <td>9970.000000</td>\n",
       "      <td>9970.000000</td>\n",
       "      <td>9970.000000</td>\n",
       "      <td>9970.000000</td>\n",
       "      <td>9970.000000</td>\n",
       "      <td>9970.000000</td>\n",
       "    </tr>\n",
       "    <tr>\n",
       "      <th>mean</th>\n",
       "      <td>650.574925</td>\n",
       "      <td>38.922166</td>\n",
       "      <td>5.004313</td>\n",
       "      <td>76479.484194</td>\n",
       "      <td>1.529789</td>\n",
       "      <td>0.705617</td>\n",
       "      <td>0.514945</td>\n",
       "      <td>100078.574125</td>\n",
       "      <td>0.203511</td>\n",
       "    </tr>\n",
       "    <tr>\n",
       "      <th>std</th>\n",
       "      <td>96.639130</td>\n",
       "      <td>10.489961</td>\n",
       "      <td>2.892268</td>\n",
       "      <td>62392.191529</td>\n",
       "      <td>0.581734</td>\n",
       "      <td>0.455788</td>\n",
       "      <td>0.499802</td>\n",
       "      <td>57505.497213</td>\n",
       "      <td>0.402629</td>\n",
       "    </tr>\n",
       "    <tr>\n",
       "      <th>min</th>\n",
       "      <td>350.000000</td>\n",
       "      <td>18.000000</td>\n",
       "      <td>0.000000</td>\n",
       "      <td>0.000000</td>\n",
       "      <td>1.000000</td>\n",
       "      <td>0.000000</td>\n",
       "      <td>0.000000</td>\n",
       "      <td>11.580000</td>\n",
       "      <td>0.000000</td>\n",
       "    </tr>\n",
       "    <tr>\n",
       "      <th>25%</th>\n",
       "      <td>584.000000</td>\n",
       "      <td>32.000000</td>\n",
       "      <td>2.000000</td>\n",
       "      <td>0.000000</td>\n",
       "      <td>1.000000</td>\n",
       "      <td>0.000000</td>\n",
       "      <td>0.000000</td>\n",
       "      <td>51012.472500</td>\n",
       "      <td>0.000000</td>\n",
       "    </tr>\n",
       "    <tr>\n",
       "      <th>50%</th>\n",
       "      <td>652.000000</td>\n",
       "      <td>37.000000</td>\n",
       "      <td>5.000000</td>\n",
       "      <td>97198.540000</td>\n",
       "      <td>1.000000</td>\n",
       "      <td>1.000000</td>\n",
       "      <td>1.000000</td>\n",
       "      <td>100168.240000</td>\n",
       "      <td>0.000000</td>\n",
       "    </tr>\n",
       "    <tr>\n",
       "      <th>75%</th>\n",
       "      <td>718.000000</td>\n",
       "      <td>44.000000</td>\n",
       "      <td>7.000000</td>\n",
       "      <td>127641.417500</td>\n",
       "      <td>2.000000</td>\n",
       "      <td>1.000000</td>\n",
       "      <td>1.000000</td>\n",
       "      <td>149378.722500</td>\n",
       "      <td>0.000000</td>\n",
       "    </tr>\n",
       "    <tr>\n",
       "      <th>max</th>\n",
       "      <td>850.000000</td>\n",
       "      <td>92.000000</td>\n",
       "      <td>10.000000</td>\n",
       "      <td>250898.090000</td>\n",
       "      <td>4.000000</td>\n",
       "      <td>1.000000</td>\n",
       "      <td>1.000000</td>\n",
       "      <td>199992.480000</td>\n",
       "      <td>1.000000</td>\n",
       "    </tr>\n",
       "  </tbody>\n",
       "</table>\n",
       "</div>"
      ],
      "text/plain": [
       "       CreditScore          Age       Tenure        Balance  NumOfProducts  \\\n",
       "count  9970.000000  9970.000000  9970.000000    9970.000000    9970.000000   \n",
       "mean    650.574925    38.922166     5.004313   76479.484194       1.529789   \n",
       "std      96.639130    10.489961     2.892268   62392.191529       0.581734   \n",
       "min     350.000000    18.000000     0.000000       0.000000       1.000000   \n",
       "25%     584.000000    32.000000     2.000000       0.000000       1.000000   \n",
       "50%     652.000000    37.000000     5.000000   97198.540000       1.000000   \n",
       "75%     718.000000    44.000000     7.000000  127641.417500       2.000000   \n",
       "max     850.000000    92.000000    10.000000  250898.090000       4.000000   \n",
       "\n",
       "         HasCrCard  IsActiveMember  EstimatedSalary       Exited  \n",
       "count  9970.000000     9970.000000      9970.000000  9970.000000  \n",
       "mean      0.705617        0.514945    100078.574125     0.203511  \n",
       "std       0.455788        0.499802     57505.497213     0.402629  \n",
       "min       0.000000        0.000000        11.580000     0.000000  \n",
       "25%       0.000000        0.000000     51012.472500     0.000000  \n",
       "50%       1.000000        1.000000    100168.240000     0.000000  \n",
       "75%       1.000000        1.000000    149378.722500     0.000000  \n",
       "max       1.000000        1.000000    199992.480000     1.000000  "
      ]
     },
     "execution_count": 20,
     "metadata": {},
     "output_type": "execute_result"
    }
   ],
   "source": [
    "data.describe()"
   ]
  },
  {
   "cell_type": "markdown",
   "id": "c1ebf60c",
   "metadata": {},
   "source": [
    "### Exploratory Data Analysis\n",
    "* We are to explore the impact of the columns on the exited(which is out target vairable).\n",
    "* Check multicollinearity using the correltaion plot\n",
    "* Check the relation of the categorical data on the customers churned(Exited)."
   ]
  },
  {
   "cell_type": "markdown",
   "id": "02b7077a",
   "metadata": {},
   "source": [
    "### Univariate analysis\n",
    "Whats the distribution of the Extied column"
   ]
  },
  {
   "cell_type": "code",
   "execution_count": 21,
   "id": "6d02ac04",
   "metadata": {},
   "outputs": [
    {
     "data": {
      "text/plain": [
       "0    7941\n",
       "1    2029\n",
       "Name: Exited, dtype: int64"
      ]
     },
     "execution_count": 21,
     "metadata": {},
     "output_type": "execute_result"
    }
   ],
   "source": [
    "# Find the unique count of the churned\n",
    "data.Exited.value_counts()"
   ]
  },
  {
   "cell_type": "code",
   "execution_count": 22,
   "id": "dc508848",
   "metadata": {},
   "outputs": [
    {
     "data": {
      "text/plain": [
       "<Axes: xlabel='Exited', ylabel='count'>"
      ]
     },
     "execution_count": 22,
     "metadata": {},
     "output_type": "execute_result"
    },
    {
     "data": {
      "image/png": "[encoded data removed]",
      "text/plain": [
       "<Figure size 640x480 with 1 Axes>"
      ]
     },
     "metadata": {},
     "output_type": "display_data"
    }
   ],
   "source": [
    "# A bar graph to show the distribution\n",
    "plt.Figure(figsize=(12,6))\n",
    "sns.countplot(x='Exited' ,data=data)"
   ]
  },
  {
   "cell_type": "markdown",
   "id": "69c748e2",
   "metadata": {},
   "source": [
    "**Univariate analysis for numerical columns**"
   ]
  },
  {
   "cell_type": "code",
   "execution_count": 23,
   "id": "7a18ecdf",
   "metadata": {},
   "outputs": [],
   "source": [
    "# create a function to run through the dataset and draw count plot with relation to Exited\n",
    "def draw_count_plot(data, target_variable):\n",
    "\n",
    "    # We only need numerical columns\n",
    "    cols = data.select_dtypes(include=['int']).columns.tolist()\n",
    "\n",
    "    # Loop through the columns\n",
    "    for col in cols:\n",
    "        if col != target_variable:\n",
    "            figsize=(10,5)\n",
    "           \n",
    "            fig, axes = plt.subplots(1,2, figsize=figsize)\n",
    "            \n",
    "            sns.histplot(data=data, x=data[col], ax=axes[0], hue=data['Exited'], bins=50, kde=True)\n",
    "            plt.suptitle(f'{col} distribution')\n",
    "            sns.boxplot(x=data['Exited'], y=data[col], ax=axes[1])\n",
    "            plt.title(f'{col} vs Exited')\n",
    "            plt.xlabel('Exited')\n",
    "            plt.ylabel(col)\n",
    "            plt.tight_layout()\n",
    "            plt.show()\n",
    "    \n",
    "draw_count_plot(data, 'Exited')"
   ]
  },
  {
   "cell_type": "markdown",
   "id": "54c202d5",
   "metadata": {},
   "source": [
    "Box plot to check for outliers in the categorical columns"
   ]
  },
  {
   "cell_type": "code",
   "execution_count": 24,
   "id": "86ab65bf",
   "metadata": {},
   "outputs": [
    {
     "ename": "NameError",
     "evalue": "name 'numerical_columns' is not defined",
     "output_type": "error",
     "traceback": [
      "\u001b[1;31m---------------------------------------------------------------------------\u001b[0m",
      "\u001b[1;31mNameError\u001b[0m                                 Traceback (most recent call last)",
      "Cell \u001b[1;32mIn[24], line 2\u001b[0m\n\u001b[0;32m      1\u001b[0m \u001b[38;5;66;03m# Create box plots for each numerical column\u001b[39;00m\n\u001b[1;32m----> 2\u001b[0m \u001b[38;5;28;01mfor\u001b[39;00m column \u001b[38;5;129;01min\u001b[39;00m \u001b[43mnumerical_columns\u001b[49m:\n\u001b[0;32m      3\u001b[0m     plt\u001b[38;5;241m.\u001b[39mfigure(figsize\u001b[38;5;241m=\u001b[39m(\u001b[38;5;241m6\u001b[39m, \u001b[38;5;241m4\u001b[39m))\n\u001b[0;32m      4\u001b[0m     sns\u001b[38;5;241m.\u001b[39mboxplot(data\u001b[38;5;241m=\u001b[39mdata, x\u001b[38;5;241m=\u001b[39mcolumn, color\u001b[38;5;241m=\u001b[39m\u001b[38;5;124m'\u001b[39m\u001b[38;5;124morange\u001b[39m\u001b[38;5;124m'\u001b[39m)\n",
      "\u001b[1;31mNameError\u001b[0m: name 'numerical_columns' is not defined"
     ]
    }
   ],
   "source": [
    "# Create box plots for each numerical column\n",
    "for column in numerical_columns:\n",
    "    plt.figure(figsize=(6, 4))\n",
    "    sns.boxplot(data=data, x=column, color='orange')\n",
    "    plt.title(f'Box Plot for {column}', fontsize=16)\n",
    "    plt.xlabel('')\n",
    "    plt.show()"
   ]
  },
  {
   "cell_type": "markdown",
   "id": "b54c2342",
   "metadata": {},
   "source": [
    "**Univariate analysis for categorical columns**"
   ]
  },
  {
   "cell_type": "code",
   "execution_count": null,
   "id": "ae456b60",
   "metadata": {},
   "outputs": [],
   "source": [
    "# Select the categorical columns for univariate analysis\n",
    "categorical_columns = ['Geography', 'Gender', 'HasCrCard', 'IsActiveMember']"
   ]
  },
  {
   "cell_type": "code",
   "execution_count": null,
   "id": "29e73070",
   "metadata": {},
   "outputs": [],
   "source": [
    "# Create bar plots for each categorical column\n",
    "for column in categorical_columns:\n",
    "    plt.figure(figsize=(6, 4))\n",
    "    sns.countplot(data=data, x=column, palette='pastel')\n",
    "    plt.title(f'Bar Plot for {column}', fontsize=12)\n",
    "    plt.xlabel(column)\n",
    "    plt.ylabel('Count')\n",
    "    plt.show()"
   ]
  },
  {
   "cell_type": "markdown",
   "id": "f2671a70",
   "metadata": {},
   "source": [
    "### Multivariate Analysis\n",
    "**Between the numerical columns and the target variable**"
   ]
  },
  {
   "cell_type": "code",
   "execution_count": null,
   "id": "e4a144e3",
   "metadata": {},
   "outputs": [],
   "source": [
    "# Create box plots for each numerical column grouped by the target variable (Exited)\n",
    "for column in numerical_columns:\n",
    "    plt.figure(figsize=(6, 4))\n",
    "    sns.boxplot(data=data, x='Exited', y=column, palette='pastel')\n",
    "    plt.title(f'Box Plot of {column} by Exited', fontsize=12)\n",
    "    plt.xlabel('Exited')\n",
    "    plt.ylabel(column)\n",
    "    plt.show()"
   ]
  },
  {
   "cell_type": "markdown",
   "id": "e01ef97b",
   "metadata": {},
   "source": [
    "Check how the churning relates with all other numerical columns"
   ]
  },
  {
   "cell_type": "code",
   "execution_count": null,
   "id": "34ae6565",
   "metadata": {},
   "outputs": [],
   "source": [
    "# create a function to run through the dataset and draw count plot with relation to Exited\n",
    "def draw_count_plot(data, target_variable):\n",
    "\n",
    "    # We only need numerical columns\n",
    "    cols = data.select_dtypes(include=['int']).columns.tolist()\n",
    "\n",
    "    # Loop through the columns\n",
    "    for col in cols:\n",
    "        if col != target_variable:\n",
    "            plt.figure(figsize=(10, 8))\n",
    "            sns.boxplot(x=data['Exited'], y=data[col])\n",
    "            plt.title(f'{col} vs Exited')\n",
    "            plt.xlabel('Exited')\n",
    "            plt.ylabel(col)\n",
    "            plt.show()\n",
    "            \n",
    "draw_count_plot(data, 'Exited')\n"
   ]
  },
  {
   "cell_type": "markdown",
   "id": "1a9c8fed",
   "metadata": {},
   "source": [
    "### Findings\n",
    "1. There is no much difference on the credit score on the clients that exited or did not exit.\n",
    "2. With Age, the older clients are exting more than the younger clients."
   ]
  },
  {
   "cell_type": "markdown",
   "id": "13d8838a",
   "metadata": {},
   "source": [
    "### Checking for multicollinearity\n",
    "-\n"
   ]
  },
  {
   "cell_type": "code",
   "execution_count": null,
   "id": "c6ecda64",
   "metadata": {},
   "outputs": [],
   "source": [
    "df = pd.DataFrame(data)\n",
    "\n",
    "# Select only integer columns\n",
    "int_columns = df.select_dtypes(include=['int']).columns\n",
    "\n",
    "# Separate the target variable\n",
    "X = df[int_columns]\n",
    "\n",
    "# Calculate VIF for each variable\n",
    "vif_data = pd.DataFrame()\n",
    "vif_data['feature'] = X.columns\n",
    "vif_data['VIF'] = [variance_inflation_factor(X.values, i) for i in range(X.shape[1])]\n",
    "\n",
    "print(vif_data)"
   ]
  },
  {
   "cell_type": "code",
   "execution_count": null,
   "id": "e14f4a81",
   "metadata": {},
   "outputs": [],
   "source": [
    "# Calculate the correlation matrix\n",
    "correlation_matrix = df.corr()\n",
    "\n",
    "# Create a heatmap\n",
    "plt.figure(figsize=(10, 8))\n",
    "sns.heatmap(correlation_matrix, annot=True, cmap='coolwarm', center=0)\n",
    "plt.title('Correlation Heatmap')\n",
    "plt.show()"
   ]
  },
  {
   "cell_type": "markdown",
   "id": "2a287e57",
   "metadata": {},
   "source": [
    "### Findings\n",
    "- From the visual heatmap there is no multicollinearity in the dataset."
   ]
  },
  {
   "cell_type": "markdown",
   "id": "faad0c70",
   "metadata": {},
   "source": [
    "**Multivariate analyses for categorical columns**"
   ]
  },
  {
   "cell_type": "code",
   "execution_count": null,
   "id": "37ef9f53",
   "metadata": {},
   "outputs": [],
   "source": [
    "# Create count plots for each categorical column grouped by the target variable (Exited)\n",
    "for column in categorical_columns:\n",
    "    plt.figure(figsize=(6, 4))\n",
    "    sns.countplot(data=data, x=column, hue='Exited', palette='pastel')\n",
    "    plt.title(f'Count Plot of {column} by Exited', fontsize=12)\n",
    "    plt.xlabel(column)\n",
    "    plt.ylabel('Count')\n",
    "    plt.legend(labels=['Not Churned', 'Churned'])\n",
    "    plt.show()"
   ]
  },
  {
   "cell_type": "markdown",
   "id": "0f87d27c",
   "metadata": {},
   "source": [
    "#### Hypothesis Testing\n"
   ]
  },
  {
   "cell_type": "code",
   "execution_count": null,
   "id": "030cfef9",
   "metadata": {},
   "outputs": [],
   "source": [
    "# Hypothesis: Higher credit scores are associated with lower churn rates\n",
    "# Null Hypothesis(Ho): Credit scores have no effect on customer churn rates\n",
    "# Alternative hypothesis(H1): Higher credit are associated with lower church rates\n",
    "\n",
    "# Extract data for each group (churned and not churned)\n",
    "credit_churned = data[data['Exited'] == 1]['CreditScore']\n",
    "credit_not_churned = data[data['Exited'] == 0]['CreditScore']\n",
    "\n",
    "# Perform t-test to compare means\n",
    "t_stat, p_value = stats.ttest_ind(credit_churned, credit_not_churned)\n",
    "\n",
    "# Print results\n",
    "print(\"T-Statistic:\", t_stat)\n",
    "print(\"P-Value:\", p_value)\n",
    "\n",
    "# Determine significance level (e.g., 0.05)\n",
    "alpha = 0.05\n",
    "\n",
    "# Check if p-value is less than alpha\n",
    "if p_value < alpha:\n",
    "    print(\"Reject null hypothesis: There is a significant difference in credit scores between churned and not churned customers.\")\n",
    "else:\n",
    "    print(\"Fail to reject null hypothesis: There is no significant difference in credit scores between churned and not churned customers.\")"
   ]
  },
  {
   "cell_type": "markdown",
   "id": "2388981b",
   "metadata": {},
   "source": [
    "### Checking for outliers"
   ]
  },
  {
   "cell_type": "code",
   "execution_count": null,
   "id": "e78f9a98",
   "metadata": {},
   "outputs": [],
   "source": [
    "column_to_check = 'CreditScore'\n",
    "\n",
    "# Calculate quartiles and IQR\n",
    "Q1 = data[column_to_check].quantile(0.25)\n",
    "Q3 = data[column_to_check].quantile(0.75)\n",
    "IQR = Q3 - Q1\n",
    "\n",
    "# Define upper and lower bounds for outliers\n",
    "lower_bound = Q1 - 1.5 * IQR\n",
    "upper_bound = Q3 + 1.5 * IQR\n",
    "\n",
    "# Identify and visualize outliers\n",
    "outliers = data[(data[column_to_check] < lower_bound) | (data[column_to_check] > upper_bound)]\n",
    "print(\"Outliers:\")\n",
    "print(outliers)\n",
    "\n",
    "plt.figure(figsize=(10, 6))\n",
    "sns.boxplot(x=data[column_to_check])\n",
    "plt.title(f\"Box Plot of {column_to_check}\")\n",
    "plt.show()"
   ]
  },
  {
   "cell_type": "markdown",
   "id": "c3c4d3b1",
   "metadata": {},
   "source": [
    "### Feature Engineering"
   ]
  },
  {
   "cell_type": "code",
   "execution_count": null,
   "id": "ac4ee003",
   "metadata": {},
   "outputs": [],
   "source": [
    "# Bin 'CreditScore' into three categories: Low, Medium, High\n",
    "bins = [0, 600, 700, 850]\n",
    "labels = ['Low', 'Medium', 'High']\n",
    "data['CreditScore_Category'] = pd.cut(data['CreditScore'], bins=bins, labels=labels)"
   ]
  },
  {
   "cell_type": "markdown",
   "id": "d9f6d4f0",
   "metadata": {},
   "source": [
    "## Modelling\n",
    "- Split the data to Train and testing dataset.\n",
    "- Train and test the dataset with different models and choose the best.\n",
    "- We will build the following models:"
   ]
  },
  {
   "cell_type": "code",
   "execution_count": null,
   "id": "88fb4011",
   "metadata": {},
   "outputs": [],
   "source": [
    "data.info()"
   ]
  },
  {
   "cell_type": "markdown",
   "id": "07bfc8b2",
   "metadata": {},
   "source": [
    "### Building a baseline model"
   ]
  },
  {
   "cell_type": "code",
   "execution_count": null,
   "id": "542b6d52",
   "metadata": {},
   "outputs": [],
   "source": [
    "\n",
    "# splitting the data\n",
    "X = data.drop(['Geography','Gender','Exited'], axis=1)\n",
    "y = data['Exited']\n",
    "\n",
    "# Split the data into training and testing sets\n",
    "X_train, X_test, y_train, y_test = train_test_split(X, y, test_size=0.2, random_state=42)\n",
    "\n",
    "# Create a Logistic Regression model\n",
    "model = LogisticRegression()\n",
    "\n",
    "# Fit the model on the training data\n",
    "model.fit(X_train, y_train)\n",
    "\n",
    "# Make predictions on the test data\n",
    "y_pred = model.predict(X_test)\n",
    "\n",
    "# Calculate accuracy\n",
    "accuracy = accuracy_score(y_test, y_pred)\n",
    "print(f\"Accuracy: {accuracy:.2f}\")\n",
    "\n",
    "# Calculate confusion matrix\n",
    "conf_matrix = confusion_matrix(y_test, y_pred)\n",
    "print(\"Confusion Matrix:\")\n",
    "print(conf_matrix)\n",
    "\n"
   ]
  },
  {
   "cell_type": "code",
   "execution_count": null,
   "id": "ac47b1e4",
   "metadata": {},
   "outputs": [],
   "source": []
  },
  {
   "cell_type": "code",
   "execution_count": null,
   "id": "46e3688a",
   "metadata": {},
   "outputs": [],
   "source": [
    "# Build models\n",
    "models = [\n",
    "    ('Logistic Regression', LogisticRegression()),\n",
    "    ('Random Forest', RandomForestClassifier()),\n",
    "    ('Grandient Boosting', GradientBoostingClassifier()),\n",
    "    ('K Nearest Neighbors', KNeighborsClassifier()),\n",
    "    ('Xgboost', XGBClassifier())\n",
    "\n",
    "]\n",
    "\n",
    "# A loop function to build the models\n",
    "scores = []\n",
    "for name, model in models:\n",
    "    model.fit(X_train_scaled, y_train)\n",
    "    y_pred = model.predict(X_test_scaled)\n",
    "\n",
    "    # We will measure the perfomance of the models using accuracy\n",
    "    acc = accuracy_score(y_test, y_pred)\n",
    "    scores.append((name, acc))\n",
    "\n",
    "\n",
    "# Print the models\n",
    "for name, acc in scores:\n",
    "    print(f\"{name}: {acc*100: .4f}\")\n"
   ]
  },
  {
   "cell_type": "code",
   "execution_count": null,
   "id": "45465988",
   "metadata": {},
   "outputs": [],
   "source": [
    "# Build models\n",
    "models = [\n",
    "    ('Logistic Regression', LogisticRegression()),\n",
    "    ('Random Forest', RandomForestClassifier()),\n",
    "    ('Grandient Boosting', GradientBoostingClassifier()),\n",
    "    ('K Nearest Neighbors', KNeighborsClassifier()),\n",
    "    ('Xgboost', XGBClassifier())\n",
    "\n",
    "]\n",
    "y\n",
    "# A loop function to build the models\n",
    "scores = []\n",
    "for name, model in models:\n",
    "    model.fit(X_train_scaled, y_train)\n",
    "    train_score = model.score(X_train_scaled, y_train)\n",
    "    test_score = model.score(X_test_scaled, y_test)\n",
    "    scores.append((name, train_score, test_score))\n",
    "\n",
    "# Display Model Performance\n",
    "for name, train_score, test_score in scores:\n",
    "    print(f'{name}:\\n Train Score = {train_score*100:.4f}\\n Test Score = {test_score*100:.4f}\\n')"
   ]
  },
  {
   "cell_type": "code",
   "execution_count": null,
   "id": "7a3ec898",
   "metadata": {},
   "outputs": [],
   "source": [
    "# Ensemble Method - Voting Classifier\n",
    "voting_clf = VotingClassifier(estimators=models, voting='hard')\n",
    "voting_clf.fit(X_train_scaled, y_train)\n",
    "train_score_voting = voting_clf.score(X_train_scaled, y_train)\n",
    "test_score_voting = voting_clf.score(X_test_scaled, y_test)\n",
    "print(f'Voting Classifier:\\n Train Score = {train_score_voting*100:.4f}\\n Test Score = {test_score_voting*100:.4f}')"
   ]
  },
  {
   "cell_type": "code",
   "execution_count": null,
   "id": "6b60f21b",
   "metadata": {},
   "outputs": [],
   "source": [
    "# baseline model \n"
   ]
  }
 ],
 "metadata": {
  "kernelspec": {
   "display_name": "Python 3 (ipykernel)",
   "language": "python",
   "name": "python3"
  },
  "language_info": {
   "codemirror_mode": {
    "name": "ipython",
    "version": 3
   },
   "file_extension": ".py",
   "mimetype": "text/x-python",
   "name": "python",
   "nbconvert_exporter": "python",
   "pygments_lexer": "ipython3",
   "version": "3.10.9"
  }
 },
 "nbformat": 4,
 "nbformat_minor": 5
}
