{
 "cells": [
  {
   "cell_type": "markdown",
   "id": "eb4fde62",
   "metadata": {},
   "source": [
    " # Customer Churn Prediction for GNB Bank"
   ]
  },
  {
   "cell_type": "markdown",
   "id": "c2092f50",
   "metadata": {},
   "source": [
    "## Introduction:\n",
    "\n",
    "GNB Bank is a leading financial institution, providing various banking and financial services to its customers. As with any bank, customer retention is crucial for maintaining a strong market presence and sustaining profitability. Identifying customers who are likely to churn is of paramount importance for GNB Bank to implement targeted strategies and retain valuable customers. In this notebook, we will explore a dataset containing customer information, including demographics, banking behavior, and historical churn data. Our objective is to build a predictive model that can accurately predict customer churn and provide valuable insights to help GNB Bank enhance its customer retention efforts."
   ]
  },
  {
   "cell_type": "markdown",
   "id": "e77b084a",
   "metadata": {},
   "source": [
    "## Business Understanding:\n",
    "\n",
    "For GNB Bank, understanding and predicting customer churn is critical for several reasons. First and foremost, customer churn impacts the bank's revenue and profitability. Acquiring new customers is more expensive than retaining existing ones, so preventing churn can lead to significant cost savings. Moreover, customer retention contributes to a positive reputation and strengthens the bank's position in the highly competitive financial industry. By leveraging machine learning techniques to predict customer churn, GNB Bank can proactively address the needs of at-risk customers, personalize their banking experience, and develop targeted marketing campaigns to foster long-term customer loyalty."
   ]
  },
  {
   "cell_type": "markdown",
   "id": "c3cad6c1",
   "metadata": {},
   "source": [
    "## Problem Statement:\n",
    "\n",
    "The goal of this project is to build an accurate customer churn prediction model for GNB Bank. Specifically, we aim to develop a machine learning model that can predict whether a customer is likely to churn or not based on their historical behavior and demographic information. The project involves the following tasks:\n",
    "\n",
    "Exploratory Data Analysis (EDA): We will explore the dataset to gain insights into customer demographics, banking behavior, and the distribution of churned customers. EDA will help us understand the data and identify patterns that may be indicative of churn.\n",
    "\n",
    "Data Preprocessing: We will handle missing values, encode categorical variables, and perform feature scaling to prepare the data for model training.\n",
    "\n",
    "Feature Importance Analysis: Using SHAP (SHapley Additive exPlanations), we will identify the most important features that influence customer churn for GNB Bank.\n",
    "\n",
    "Model Building: We will train and evaluate two machine learning models - Decision Trees and Random Forests - to predict customer churn accurately.\n",
    "\n",
    "Model Evaluation: The performance of the models will be assessed using various evaluation metrics, such as accuracy, F1 score, precision, recall, and the ROC-AUC curve.\n",
    "\n",
    "Interpretation and Recommendations: We will interpret the model results to identify key factors contributing to customer churn for GNB Bank. Based on the insights gained, we will provide actionable recommendations to the bank on strategies to reduce churn and improve customer retention.\n",
    "\n",
    "By completing these tasks, we aim to deliver a robust customer churn prediction model that will enable GNB Bank to make data-driven decisions, enhance customer satisfaction, and strengthen its market position in the competitive financial industry."
   ]
  },
  {
   "cell_type": "markdown",
   "id": "2addc540",
   "metadata": {},
   "source": [
    "**1.RowNumber:** A sequential number assigned to each row in the dataset.\n",
    "\n",
    "**2.CustomerId:** A unique identifier for each customer in the bank.\n",
    "\n",
    "**3.Surname:** The last name of the customer.\n",
    "\n",
    "**4.CreditScore:** The credit score of the customer, representing their creditworthiness.\n",
    "\n",
    "**5.Geography:** The geographical location of the customer (e.g., France, Spain, Germany).\n",
    "\n",
    "**6.Gender:** The gender of the customer (Male or Female).\n",
    "\n",
    "**7.Age:** The age of the customer.\n",
    "\n",
    "**8.Tenure:** The number of years the customer has been with the bank.\n",
    "\n",
    "**9.Balance:** The account balance of the customer.\n",
    "\n",
    "**10.NumOfProducts:** The number of bank products the customer has purchased.\n",
    "\n",
    "**11.HasCrCard:** Whether the customer has a credit card (1 if yes, 0 if no).\n",
    "\n",
    "**12.IsActiveMember:** Whether the customer is an active member (1 if yes, 0 if no).\n",
    "\n",
    "**13.EstimatedSalary:** The estimated salary of the customer.\n",
    "\n",
    "**14.Exited:** The target variable indicating whether the customer churned (1 if yes, 0 if no)."
   ]
  },
  {
   "cell_type": "markdown",
   "id": "82de2288",
   "metadata": {},
   "source": [
    "## 1. Importing the relevant libraries"
   ]
  },
  {
   "cell_type": "code",
   "execution_count": 1,
   "id": "56b297e2",
   "metadata": {},
   "outputs": [],
   "source": [
    "import pandas as pd\n",
    "import numpy as np\n",
    "import matplotlib.pyplot as plt\n",
    "import seaborn as sns\n",
    "from sklearn import preprocessing\n",
    "from sklearn.model_selection import train_test_split\n",
    "from scipy import stats\n",
    "from sklearn.tree import DecisionTreeClassifier\n",
    "from sklearn.model_selection import GridSearchCV\n",
    "from sklearn.metrics import confusion_matrix\n",
    "from sklearn.metrics import roc_curve,roc_auc_score\n",
    "import warnings\n",
    "warnings.filterwarnings('ignore')"
   ]
  },
  {
   "cell_type": "markdown",
   "id": "f6bdd38a",
   "metadata": {},
   "source": [
    "## 2. Loading the Data"
   ]
  },
  {
   "cell_type": "code",
   "execution_count": 8,
   "id": "99a9c3d6",
   "metadata": {},
   "outputs": [
    {
     "data": {
      "text/html": [
       "<div>\n",
       "<style scoped>\n",
       "    .dataframe tbody tr th:only-of-type {\n",
       "        vertical-align: middle;\n",
       "    }\n",
       "\n",
       "    .dataframe tbody tr th {\n",
       "        vertical-align: top;\n",
       "    }\n",
       "\n",
       "    .dataframe thead th {\n",
       "        text-align: right;\n",
       "    }\n",
       "</style>\n",
       "<table border=\"1\" class=\"dataframe\">\n",
       "  <thead>\n",
       "    <tr style=\"text-align: right;\">\n",
       "      <th></th>\n",
       "      <th>RowNumber</th>\n",
       "      <th>CustomerId</th>\n",
       "      <th>Surname</th>\n",
       "      <th>CreditScore</th>\n",
       "      <th>Geography</th>\n",
       "      <th>Gender</th>\n",
       "      <th>Age</th>\n",
       "      <th>Tenure</th>\n",
       "      <th>Balance</th>\n",
       "      <th>NumOfProducts</th>\n",
       "      <th>HasCrCard</th>\n",
       "      <th>IsActiveMember</th>\n",
       "      <th>EstimatedSalary</th>\n",
       "      <th>Exited</th>\n",
       "    </tr>\n",
       "  </thead>\n",
       "  <tbody>\n",
       "    <tr>\n",
       "      <th>0</th>\n",
       "      <td>1</td>\n",
       "      <td>15634602</td>\n",
       "      <td>Hargrave</td>\n",
       "      <td>619</td>\n",
       "      <td>France</td>\n",
       "      <td>Female</td>\n",
       "      <td>42</td>\n",
       "      <td>2</td>\n",
       "      <td>0.00</td>\n",
       "      <td>1</td>\n",
       "      <td>1</td>\n",
       "      <td>1</td>\n",
       "      <td>101348.88</td>\n",
       "      <td>1</td>\n",
       "    </tr>\n",
       "    <tr>\n",
       "      <th>1</th>\n",
       "      <td>2</td>\n",
       "      <td>15647311</td>\n",
       "      <td>Hill</td>\n",
       "      <td>608</td>\n",
       "      <td>Spain</td>\n",
       "      <td>Female</td>\n",
       "      <td>41</td>\n",
       "      <td>1</td>\n",
       "      <td>83807.86</td>\n",
       "      <td>1</td>\n",
       "      <td>0</td>\n",
       "      <td>1</td>\n",
       "      <td>112542.58</td>\n",
       "      <td>0</td>\n",
       "    </tr>\n",
       "    <tr>\n",
       "      <th>2</th>\n",
       "      <td>3</td>\n",
       "      <td>15619304</td>\n",
       "      <td>Onio</td>\n",
       "      <td>502</td>\n",
       "      <td>France</td>\n",
       "      <td>Female</td>\n",
       "      <td>42</td>\n",
       "      <td>8</td>\n",
       "      <td>159660.80</td>\n",
       "      <td>3</td>\n",
       "      <td>1</td>\n",
       "      <td>0</td>\n",
       "      <td>113931.57</td>\n",
       "      <td>1</td>\n",
       "    </tr>\n",
       "    <tr>\n",
       "      <th>3</th>\n",
       "      <td>4</td>\n",
       "      <td>15701354</td>\n",
       "      <td>Boni</td>\n",
       "      <td>699</td>\n",
       "      <td>France</td>\n",
       "      <td>Female</td>\n",
       "      <td>39</td>\n",
       "      <td>1</td>\n",
       "      <td>0.00</td>\n",
       "      <td>2</td>\n",
       "      <td>0</td>\n",
       "      <td>0</td>\n",
       "      <td>93826.63</td>\n",
       "      <td>0</td>\n",
       "    </tr>\n",
       "    <tr>\n",
       "      <th>4</th>\n",
       "      <td>5</td>\n",
       "      <td>15737888</td>\n",
       "      <td>Mitchell</td>\n",
       "      <td>850</td>\n",
       "      <td>Spain</td>\n",
       "      <td>Female</td>\n",
       "      <td>43</td>\n",
       "      <td>2</td>\n",
       "      <td>125510.82</td>\n",
       "      <td>1</td>\n",
       "      <td>1</td>\n",
       "      <td>1</td>\n",
       "      <td>79084.10</td>\n",
       "      <td>0</td>\n",
       "    </tr>\n",
       "  </tbody>\n",
       "</table>\n",
       "</div>"
      ],
      "text/plain": [
       "   RowNumber  CustomerId   Surname  CreditScore Geography  Gender  Age  \\\n",
       "0          1    15634602  Hargrave          619    France  Female   42   \n",
       "1          2    15647311      Hill          608     Spain  Female   41   \n",
       "2          3    15619304      Onio          502    France  Female   42   \n",
       "3          4    15701354      Boni          699    France  Female   39   \n",
       "4          5    15737888  Mitchell          850     Spain  Female   43   \n",
       "\n",
       "   Tenure    Balance  NumOfProducts  HasCrCard  IsActiveMember  \\\n",
       "0       2       0.00              1          1               1   \n",
       "1       1   83807.86              1          0               1   \n",
       "2       8  159660.80              3          1               0   \n",
       "3       1       0.00              2          0               0   \n",
       "4       2  125510.82              1          1               1   \n",
       "\n",
       "   EstimatedSalary  Exited  \n",
       "0        101348.88       1  \n",
       "1        112542.58       0  \n",
       "2        113931.57       1  \n",
       "3         93826.63       0  \n",
       "4         79084.10       0  "
      ]
     },
     "execution_count": 8,
     "metadata": {},
     "output_type": "execute_result"
    }
   ],
   "source": [
    "df = pd.read_csv(\"Churn Modeling.csv\")\n",
    "df.head()"
   ]
  },
  {
   "cell_type": "code",
   "execution_count": 9,
   "id": "4007228f",
   "metadata": {},
   "outputs": [
    {
     "name": "stdout",
     "output_type": "stream",
     "text": [
      "<class 'pandas.core.frame.DataFrame'>\n",
      "RangeIndex: 10000 entries, 0 to 9999\n",
      "Data columns (total 14 columns):\n",
      " #   Column           Non-Null Count  Dtype  \n",
      "---  ------           --------------  -----  \n",
      " 0   RowNumber        10000 non-null  int64  \n",
      " 1   CustomerId       10000 non-null  int64  \n",
      " 2   Surname          10000 non-null  object \n",
      " 3   CreditScore      10000 non-null  int64  \n",
      " 4   Geography        10000 non-null  object \n",
      " 5   Gender           10000 non-null  object \n",
      " 6   Age              10000 non-null  int64  \n",
      " 7   Tenure           10000 non-null  int64  \n",
      " 8   Balance          10000 non-null  float64\n",
      " 9   NumOfProducts    10000 non-null  int64  \n",
      " 10  HasCrCard        10000 non-null  int64  \n",
      " 11  IsActiveMember   10000 non-null  int64  \n",
      " 12  EstimatedSalary  10000 non-null  float64\n",
      " 13  Exited           10000 non-null  int64  \n",
      "dtypes: float64(2), int64(9), object(3)\n",
      "memory usage: 1.1+ MB\n"
     ]
    }
   ],
   "source": [
    "df.info()"
   ]
  },
  {
   "cell_type": "markdown",
   "id": "781e02ad",
   "metadata": {},
   "source": [
    "This dataset has 14 columns; 3 categorical, 11 numerical and 10000 rows/observations. The data doesn't seem to have any missing values. To understand the data better, let's check the value counts of each column."
   ]
  },
  {
   "cell_type": "code",
   "execution_count": 10,
   "id": "e507ee17",
   "metadata": {},
   "outputs": [
    {
     "name": "stdout",
     "output_type": "stream",
     "text": [
      "value counts for RowNumber\n",
      "2047    1\n",
      "5424    1\n",
      "1338    1\n",
      "7481    1\n",
      "5432    1\n",
      "       ..\n",
      "2716    1\n",
      "8857    1\n",
      "4759    1\n",
      "6806    1\n",
      "2049    1\n",
      "Name: RowNumber, Length: 10000, dtype: int64\n",
      "------------------------------------------ \n",
      "\n",
      "value counts for CustomerId\n",
      "15812607    1\n",
      "15741078    1\n",
      "15635776    1\n",
      "15740223    1\n",
      "15738174    1\n",
      "           ..\n",
      "15743714    1\n",
      "15639265    1\n",
      "15641312    1\n",
      "15684319    1\n",
      "15695872    1\n",
      "Name: CustomerId, Length: 10000, dtype: int64\n",
      "------------------------------------------ \n",
      "\n",
      "value counts for Surname\n",
      "Smith       32\n",
      "Scott       29\n",
      "Martin      29\n",
      "Walker      28\n",
      "Brown       26\n",
      "            ..\n",
      "Bancroft     1\n",
      "Stiger       1\n",
      "Kepley       1\n",
      "Astorga      1\n",
      "Kershaw      1\n",
      "Name: Surname, Length: 2932, dtype: int64\n",
      "------------------------------------------ \n",
      "\n",
      "value counts for CreditScore\n",
      "850    233\n",
      "678     63\n",
      "655     54\n",
      "705     53\n",
      "667     53\n",
      "      ... \n",
      "419      1\n",
      "417      1\n",
      "373      1\n",
      "365      1\n",
      "401      1\n",
      "Name: CreditScore, Length: 460, dtype: int64\n",
      "------------------------------------------ \n",
      "\n",
      "value counts for Geography\n",
      "France     5014\n",
      "Germany    2509\n",
      "Spain      2477\n",
      "Name: Geography, dtype: int64\n",
      "------------------------------------------ \n",
      "\n",
      "value counts for Gender\n",
      "Male      5457\n",
      "Female    4543\n",
      "Name: Gender, dtype: int64\n",
      "------------------------------------------ \n",
      "\n",
      "value counts for Age\n",
      "37    478\n",
      "38    477\n",
      "35    474\n",
      "36    456\n",
      "34    447\n",
      "     ... \n",
      "92      2\n",
      "88      1\n",
      "82      1\n",
      "85      1\n",
      "83      1\n",
      "Name: Age, Length: 70, dtype: int64\n",
      "------------------------------------------ \n",
      "\n",
      "value counts for Tenure\n",
      "2     1048\n",
      "1     1035\n",
      "7     1028\n",
      "8     1025\n",
      "5     1012\n",
      "3     1009\n",
      "4      989\n",
      "9      984\n",
      "6      967\n",
      "10     490\n",
      "0      413\n",
      "Name: Tenure, dtype: int64\n",
      "------------------------------------------ \n",
      "\n",
      "value counts for Balance\n",
      "0.00         3617\n",
      "105473.74       2\n",
      "130170.82       2\n",
      "113063.83       1\n",
      "80242.37        1\n",
      "             ... \n",
      "183555.24       1\n",
      "137648.41       1\n",
      "112689.95       1\n",
      "115465.28       1\n",
      "74681.90        1\n",
      "Name: Balance, Length: 6382, dtype: int64\n",
      "------------------------------------------ \n",
      "\n",
      "value counts for NumOfProducts\n",
      "1    5084\n",
      "2    4590\n",
      "3     266\n",
      "4      60\n",
      "Name: NumOfProducts, dtype: int64\n",
      "------------------------------------------ \n",
      "\n",
      "value counts for HasCrCard\n",
      "1    7055\n",
      "0    2945\n",
      "Name: HasCrCard, dtype: int64\n",
      "------------------------------------------ \n",
      "\n",
      "value counts for IsActiveMember\n",
      "1    5151\n",
      "0    4849\n",
      "Name: IsActiveMember, dtype: int64\n",
      "------------------------------------------ \n",
      "\n",
      "value counts for EstimatedSalary\n",
      "24924.92     2\n",
      "109029.72    1\n",
      "182025.95    1\n",
      "82820.85     1\n",
      "30314.04     1\n",
      "            ..\n",
      "158302.59    1\n",
      "171037.63    1\n",
      "43036.60     1\n",
      "55034.02     1\n",
      "104181.78    1\n",
      "Name: EstimatedSalary, Length: 9999, dtype: int64\n",
      "------------------------------------------ \n",
      "\n",
      "value counts for Exited\n",
      "0    7963\n",
      "1    2037\n",
      "Name: Exited, dtype: int64\n",
      "------------------------------------------ \n",
      "\n"
     ]
    }
   ],
   "source": [
    "def check_value_counts(data):\n",
    "  for column in data.columns:\n",
    "    print(f'value counts for {column}')\n",
    "    print(data[column].value_counts())\n",
    "    print('------------------------------------------','\\n')\n",
    "\n",
    "check_value_counts(df)"
   ]
  },
  {
   "cell_type": "markdown",
   "id": "40000c6d",
   "metadata": {},
   "source": [
    "The data doesn't have data any inconsistencies."
   ]
  },
  {
   "cell_type": "code",
   "execution_count": 12,
   "id": "a910de17",
   "metadata": {},
   "outputs": [
    {
     "data": {
      "text/html": [
       "<div>\n",
       "<style scoped>\n",
       "    .dataframe tbody tr th:only-of-type {\n",
       "        vertical-align: middle;\n",
       "    }\n",
       "\n",
       "    .dataframe tbody tr th {\n",
       "        vertical-align: top;\n",
       "    }\n",
       "\n",
       "    .dataframe thead th {\n",
       "        text-align: right;\n",
       "    }\n",
       "</style>\n",
       "<table border=\"1\" class=\"dataframe\">\n",
       "  <thead>\n",
       "    <tr style=\"text-align: right;\">\n",
       "      <th></th>\n",
       "      <th>RowNumber</th>\n",
       "      <th>CustomerId</th>\n",
       "      <th>CreditScore</th>\n",
       "      <th>Age</th>\n",
       "      <th>Tenure</th>\n",
       "      <th>Balance</th>\n",
       "      <th>NumOfProducts</th>\n",
       "      <th>HasCrCard</th>\n",
       "      <th>IsActiveMember</th>\n",
       "      <th>EstimatedSalary</th>\n",
       "      <th>Exited</th>\n",
       "    </tr>\n",
       "  </thead>\n",
       "  <tbody>\n",
       "    <tr>\n",
       "      <th>count</th>\n",
       "      <td>10000.00000</td>\n",
       "      <td>1.000000e+04</td>\n",
       "      <td>10000.000000</td>\n",
       "      <td>10000.000000</td>\n",
       "      <td>10000.000000</td>\n",
       "      <td>10000.000000</td>\n",
       "      <td>10000.000000</td>\n",
       "      <td>10000.00000</td>\n",
       "      <td>10000.000000</td>\n",
       "      <td>10000.000000</td>\n",
       "      <td>10000.000000</td>\n",
       "    </tr>\n",
       "    <tr>\n",
       "      <th>mean</th>\n",
       "      <td>5000.50000</td>\n",
       "      <td>1.569094e+07</td>\n",
       "      <td>650.528800</td>\n",
       "      <td>38.921800</td>\n",
       "      <td>5.012800</td>\n",
       "      <td>76485.889288</td>\n",
       "      <td>1.530200</td>\n",
       "      <td>0.70550</td>\n",
       "      <td>0.515100</td>\n",
       "      <td>100090.239881</td>\n",
       "      <td>0.203700</td>\n",
       "    </tr>\n",
       "    <tr>\n",
       "      <th>std</th>\n",
       "      <td>2886.89568</td>\n",
       "      <td>7.193619e+04</td>\n",
       "      <td>96.653299</td>\n",
       "      <td>10.487806</td>\n",
       "      <td>2.892174</td>\n",
       "      <td>62397.405202</td>\n",
       "      <td>0.581654</td>\n",
       "      <td>0.45584</td>\n",
       "      <td>0.499797</td>\n",
       "      <td>57510.492818</td>\n",
       "      <td>0.402769</td>\n",
       "    </tr>\n",
       "    <tr>\n",
       "      <th>min</th>\n",
       "      <td>1.00000</td>\n",
       "      <td>1.556570e+07</td>\n",
       "      <td>350.000000</td>\n",
       "      <td>18.000000</td>\n",
       "      <td>0.000000</td>\n",
       "      <td>0.000000</td>\n",
       "      <td>1.000000</td>\n",
       "      <td>0.00000</td>\n",
       "      <td>0.000000</td>\n",
       "      <td>11.580000</td>\n",
       "      <td>0.000000</td>\n",
       "    </tr>\n",
       "    <tr>\n",
       "      <th>25%</th>\n",
       "      <td>2500.75000</td>\n",
       "      <td>1.562853e+07</td>\n",
       "      <td>584.000000</td>\n",
       "      <td>32.000000</td>\n",
       "      <td>3.000000</td>\n",
       "      <td>0.000000</td>\n",
       "      <td>1.000000</td>\n",
       "      <td>0.00000</td>\n",
       "      <td>0.000000</td>\n",
       "      <td>51002.110000</td>\n",
       "      <td>0.000000</td>\n",
       "    </tr>\n",
       "    <tr>\n",
       "      <th>50%</th>\n",
       "      <td>5000.50000</td>\n",
       "      <td>1.569074e+07</td>\n",
       "      <td>652.000000</td>\n",
       "      <td>37.000000</td>\n",
       "      <td>5.000000</td>\n",
       "      <td>97198.540000</td>\n",
       "      <td>1.000000</td>\n",
       "      <td>1.00000</td>\n",
       "      <td>1.000000</td>\n",
       "      <td>100193.915000</td>\n",
       "      <td>0.000000</td>\n",
       "    </tr>\n",
       "    <tr>\n",
       "      <th>75%</th>\n",
       "      <td>7500.25000</td>\n",
       "      <td>1.575323e+07</td>\n",
       "      <td>718.000000</td>\n",
       "      <td>44.000000</td>\n",
       "      <td>7.000000</td>\n",
       "      <td>127644.240000</td>\n",
       "      <td>2.000000</td>\n",
       "      <td>1.00000</td>\n",
       "      <td>1.000000</td>\n",
       "      <td>149388.247500</td>\n",
       "      <td>0.000000</td>\n",
       "    </tr>\n",
       "    <tr>\n",
       "      <th>max</th>\n",
       "      <td>10000.00000</td>\n",
       "      <td>1.581569e+07</td>\n",
       "      <td>850.000000</td>\n",
       "      <td>92.000000</td>\n",
       "      <td>10.000000</td>\n",
       "      <td>250898.090000</td>\n",
       "      <td>4.000000</td>\n",
       "      <td>1.00000</td>\n",
       "      <td>1.000000</td>\n",
       "      <td>199992.480000</td>\n",
       "      <td>1.000000</td>\n",
       "    </tr>\n",
       "  </tbody>\n",
       "</table>\n",
       "</div>"
      ],
      "text/plain": [
       "         RowNumber    CustomerId   CreditScore           Age        Tenure  \\\n",
       "count  10000.00000  1.000000e+04  10000.000000  10000.000000  10000.000000   \n",
       "mean    5000.50000  1.569094e+07    650.528800     38.921800      5.012800   \n",
       "std     2886.89568  7.193619e+04     96.653299     10.487806      2.892174   \n",
       "min        1.00000  1.556570e+07    350.000000     18.000000      0.000000   \n",
       "25%     2500.75000  1.562853e+07    584.000000     32.000000      3.000000   \n",
       "50%     5000.50000  1.569074e+07    652.000000     37.000000      5.000000   \n",
       "75%     7500.25000  1.575323e+07    718.000000     44.000000      7.000000   \n",
       "max    10000.00000  1.581569e+07    850.000000     92.000000     10.000000   \n",
       "\n",
       "             Balance  NumOfProducts    HasCrCard  IsActiveMember  \\\n",
       "count   10000.000000   10000.000000  10000.00000    10000.000000   \n",
       "mean    76485.889288       1.530200      0.70550        0.515100   \n",
       "std     62397.405202       0.581654      0.45584        0.499797   \n",
       "min         0.000000       1.000000      0.00000        0.000000   \n",
       "25%         0.000000       1.000000      0.00000        0.000000   \n",
       "50%     97198.540000       1.000000      1.00000        1.000000   \n",
       "75%    127644.240000       2.000000      1.00000        1.000000   \n",
       "max    250898.090000       4.000000      1.00000        1.000000   \n",
       "\n",
       "       EstimatedSalary        Exited  \n",
       "count     10000.000000  10000.000000  \n",
       "mean     100090.239881      0.203700  \n",
       "std       57510.492818      0.402769  \n",
       "min          11.580000      0.000000  \n",
       "25%       51002.110000      0.000000  \n",
       "50%      100193.915000      0.000000  \n",
       "75%      149388.247500      0.000000  \n",
       "max      199992.480000      1.000000  "
      ]
     },
     "execution_count": 12,
     "metadata": {},
     "output_type": "execute_result"
    }
   ],
   "source": [
    "df.describe()"
   ]
  },
  {
   "cell_type": "markdown",
   "id": "e27a35fb",
   "metadata": {},
   "source": [
    "As seen above, the data is in different scales thus for modelling processes, we'll have toscale the data to be in the same scale."
   ]
  },
  {
   "cell_type": "markdown",
   "id": "04fe7c38",
   "metadata": {},
   "source": [
    "## 3. Data Analysis"
   ]
  },
  {
   "cell_type": "code",
   "execution_count": 13,
   "id": "cdead1d7",
   "metadata": {},
   "outputs": [],
   "source": [
    "# checking for missing values and duplicates\n",
    "def check_missing_values(data):\n",
    "  return data.isna().sum()\n",
    "\n",
    "def check_duplicates (data):\n",
    "    \"\"\"\n",
    "    A simple function to check for duplicates in a given dataset.\n",
    "    \"\"\"\n",
    "    duplicates = data.duplicated().sum()\n",
    "    return duplicates"
   ]
  },
  {
   "cell_type": "code",
   "execution_count": 14,
   "id": "07bff21e",
   "metadata": {},
   "outputs": [
    {
     "data": {
      "text/plain": [
       "0"
      ]
     },
     "execution_count": 14,
     "metadata": {},
     "output_type": "execute_result"
    }
   ],
   "source": [
    "check_duplicates(df)"
   ]
  },
  {
   "cell_type": "code",
   "execution_count": 15,
   "id": "f95aeadb",
   "metadata": {},
   "outputs": [
    {
     "data": {
      "text/plain": [
       "RowNumber          0\n",
       "CustomerId         0\n",
       "Surname            0\n",
       "CreditScore        0\n",
       "Geography          0\n",
       "Gender             0\n",
       "Age                0\n",
       "Tenure             0\n",
       "Balance            0\n",
       "NumOfProducts      0\n",
       "HasCrCard          0\n",
       "IsActiveMember     0\n",
       "EstimatedSalary    0\n",
       "Exited             0\n",
       "dtype: int64"
      ]
     },
     "execution_count": 15,
     "metadata": {},
     "output_type": "execute_result"
    }
   ],
   "source": [
    "check_missing_values(df)"
   ]
  },
  {
   "cell_type": "markdown",
   "id": "0f9c4001",
   "metadata": {},
   "source": [
    "The data has neither duplicates nor missing values."
   ]
  },
  {
   "cell_type": "code",
   "execution_count": 16,
   "id": "e31027d9",
   "metadata": {},
   "outputs": [
    {
     "data": {
      "text/html": [
       "<div>\n",
       "<style scoped>\n",
       "    .dataframe tbody tr th:only-of-type {\n",
       "        vertical-align: middle;\n",
       "    }\n",
       "\n",
       "    .dataframe tbody tr th {\n",
       "        vertical-align: top;\n",
       "    }\n",
       "\n",
       "    .dataframe thead th {\n",
       "        text-align: right;\n",
       "    }\n",
       "</style>\n",
       "<table border=\"1\" class=\"dataframe\">\n",
       "  <thead>\n",
       "    <tr style=\"text-align: right;\">\n",
       "      <th></th>\n",
       "      <th>RowNumber</th>\n",
       "      <th>CustomerId</th>\n",
       "      <th>Surname</th>\n",
       "      <th>CreditScore</th>\n",
       "      <th>Geography</th>\n",
       "      <th>Gender</th>\n",
       "      <th>Age</th>\n",
       "      <th>Tenure</th>\n",
       "      <th>Balance</th>\n",
       "      <th>NumOfProducts</th>\n",
       "      <th>HasCrCard</th>\n",
       "      <th>IsActiveMember</th>\n",
       "      <th>EstimatedSalary</th>\n",
       "      <th>Exited</th>\n",
       "    </tr>\n",
       "  </thead>\n",
       "  <tbody>\n",
       "  </tbody>\n",
       "</table>\n",
       "</div>"
      ],
      "text/plain": [
       "Empty DataFrame\n",
       "Columns: [RowNumber, CustomerId, Surname, CreditScore, Geography, Gender, Age, Tenure, Balance, NumOfProducts, HasCrCard, IsActiveMember, EstimatedSalary, Exited]\n",
       "Index: []"
      ]
     },
     "execution_count": 16,
     "metadata": {},
     "output_type": "execute_result"
    }
   ],
   "source": [
    "#Since CustomerId is the unique identifier of the customers, let's check for duplicates\n",
    "duplicated_number= df[df['CustomerId'].duplicated(keep=False)]\n",
    "duplicated_number"
   ]
  },
  {
   "cell_type": "markdown",
   "id": "3f3a1bdb",
   "metadata": {},
   "source": [
    "The column CustomerId doesn't have any duplicates"
   ]
  },
  {
   "cell_type": "markdown",
   "id": "a78f4958",
   "metadata": {},
   "source": [
    "### 4. Outliers"
   ]
  },
  {
   "cell_type": "code",
   "execution_count": 17,
   "id": "9d1130f5",
   "metadata": {},
   "outputs": [
    {
     "name": "stdout",
     "output_type": "stream",
     "text": [
      "IQR for RowNumber column: 4999.5\n",
      "Number of outliers in RowNumber column: 0\n",
      "IQR for CustomerId column: 124705.5\n",
      "Number of outliers in CustomerId column: 0\n",
      "IQR for CreditScore column: 134.0\n",
      "Number of outliers in CreditScore column: 15\n",
      "IQR for Age column: 12.0\n",
      "Number of outliers in Age column: 359\n",
      "IQR for Tenure column: 4.0\n",
      "Number of outliers in Tenure column: 0\n",
      "IQR for Balance column: 127644.24\n",
      "Number of outliers in Balance column: 0\n",
      "IQR for NumOfProducts column: 1.0\n",
      "Number of outliers in NumOfProducts column: 60\n",
      "IQR for HasCrCard column: 1.0\n",
      "Number of outliers in HasCrCard column: 0\n",
      "IQR for IsActiveMember column: 1.0\n",
      "Number of outliers in IsActiveMember column: 0\n",
      "IQR for EstimatedSalary column: 98386.1375\n",
      "Number of outliers in EstimatedSalary column: 0\n",
      "IQR for Exited column: 0.0\n",
      "Number of outliers in Exited column: 2037\n"
     ]
    },
    {
     "data": {
      "image/png": "[encoded data removed]",
      "text/plain": [
       "<Figure size 1440x720 with 11 Axes>"
      ]
     },
     "metadata": {
      "needs_background": "light"
     },
     "output_type": "display_data"
    }
   ],
   "source": [
    "def check_outliers(data, columns):\n",
    "    fig, axes = plt.subplots(nrows=len(columns), ncols=1, figsize=(20,10))\n",
    "    for i, column in enumerate(columns):\n",
    "        # Use interquartile range (IQR) to find outliers for the specified column\n",
    "        q1 = data[column].quantile(0.25)\n",
    "        q3 = data[column].quantile(0.75)\n",
    "        iqr = q3 - q1\n",
    "        print(\"IQR for {} column: {}\".format(column, iqr))\n",
    "\n",
    "        # Determine the outliers based on the IQR\n",
    "        outliers = (data[column] < q1 - 1.5 * iqr) | (data[column] > q3 + 1.5 * iqr)\n",
    "        print(\"Number of outliers in {} column: {}\".format(column, outliers.sum()))\n",
    "\n",
    "        # Create a box plot to visualize the distribution of the specified column\n",
    "        sns.boxplot(data=data, x=column, ax=axes[i])\n",
    "    plt.show()\n",
    "\n",
    "\n",
    "num=df.select_dtypes('number')\n",
    "columns=num.columns\n",
    "check_outliers(df, columns)"
   ]
  },
  {
   "cell_type": "markdown",
   "id": "425b94b7",
   "metadata": {},
   "source": [
    "The data has outliers but we won't remove them because that information could be useful to predict customer churn."
   ]
  },
  {
   "cell_type": "markdown",
   "id": "90fbbf2c",
   "metadata": {},
   "source": [
    "## 5. Univariate EDA"
   ]
  },
  {
   "cell_type": "markdown",
   "id": "8a2c0e68",
   "metadata": {},
   "source": [
    "Let's understand the target variable better, 7963 customers did not churn but 2037 customers did churn(this shows that our data has class imbalance problems so we should put this into consideration when modelling)."
   ]
  },
  {
   "cell_type": "code",
   "execution_count": 24,
   "id": "46c83a85",
   "metadata": {},
   "outputs": [
    {
     "data": {
      "image/png": "[encoded data removed]",
      "text/plain": [
       "<Figure size 432x288 with 1 Axes>"
      ]
     },
     "metadata": {
      "needs_background": "light"
     },
     "output_type": "display_data"
    }
   ],
   "source": [
    "d= df.Exited.value_counts(normalize=True)\n",
    "plt.bar(d.index, d.values)\n",
    "plt.xlabel('Exited')\n",
    "plt.ylabel('proportion')\n",
    "plt.xticks([0, 1])\n",
    "plt.show();"
   ]
  },
  {
   "cell_type": "markdown",
   "id": "814c7246",
   "metadata": {},
   "source": [
    "The above plot shows the distribution of our target variable and we can see that most of the customers did not churn. Let's visualize the distribution of our predicor variables."
   ]
  },
  {
   "cell_type": "code",
   "execution_count": 26,
   "id": "194c7895",
   "metadata": {},
   "outputs": [
    {
     "data": {
      "image/png": "[encoded data removed]",
      "text/plain": [
       "<Figure size 1440x1440 with 12 Axes>"
      ]
     },
     "metadata": {
      "needs_background": "light"
     },
     "output_type": "display_data"
    }
   ],
   "source": [
    "# distribution of numerical predictors\n",
    "df.hist(figsize=(20,20));"
   ]
  },
  {
   "cell_type": "markdown",
   "id": "64535f64",
   "metadata": {},
   "source": [
    "The predictor variables; account\n"
   ]
  },
  {
   "cell_type": "markdown",
   "id": "a45207d3",
   "metadata": {},
   "source": []
  }
 ],
 "metadata": {
  "kernelspec": {
   "display_name": "Python 3 (ipykernel)",
   "language": "python",
   "name": "python3"
  },
  "language_info": {
   "codemirror_mode": {
    "name": "ipython",
    "version": 3
   },
   "file_extension": ".py",
   "mimetype": "text/x-python",
   "name": "python",
   "nbconvert_exporter": "python",
   "pygments_lexer": "ipython3",
   "version": "3.8.5"
  }
 },
 "nbformat": 4,
 "nbformat_minor": 5
}
